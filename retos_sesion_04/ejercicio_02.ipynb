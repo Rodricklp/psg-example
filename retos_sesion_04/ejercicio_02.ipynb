{
 "cells": [
  {
   "cell_type": "markdown",
   "metadata": {},
   "source": [
    "# Crea un archivo \"ejercicio_02.ipynb\", añade un texto markdown con la descripción del ejercicio \"2\" y crea una imagen utilizando símbolos y prints\n",
    "## Símbolos: * - , () \\ | / _ \" ' = C"
   ]
  },
  {
   "cell_type": "code",
   "execution_count": 9,
   "metadata": {},
   "outputs": [
    {
     "name": "stdout",
     "output_type": "stream",
     "text": [
      "=====================\n",
      "||                  ||\n",
      "||     \\        /   ||\n",
      "||      \\      /    ||\n",
      "||   o   \\    /     ||\n",
      "||        \\  /      ||\n",
      "||   o     \\/       ||\n",
      "||                  ||\n",
      "=====================\n"
     ]
    }
   ],
   "source": [
    "print(\"=====================\")\n",
    "print(\"||                  ||\")\n",
    "print(\"||     \\\\        /   ||\")\n",
    "print(\"||      \\\\      /    ||\")\n",
    "print(\"||   o   \\\\    /     ||\")\n",
    "print(\"||        \\\\  /      ||\")\n",
    "print(\"||   o     \\\\/       ||\")\n",
    "print(\"||                  ||\")\n",
    "print(\"=====================\")"
   ]
  }
 ],
 "metadata": {
  "kernelspec": {
   "display_name": "Python 3",
   "language": "python",
   "name": "python3"
  },
  "language_info": {
   "codemirror_mode": {
    "name": "ipython",
    "version": 3
   },
   "file_extension": ".py",
   "mimetype": "text/x-python",
   "name": "python",
   "nbconvert_exporter": "python",
   "pygments_lexer": "ipython3",
   "version": "3.12.3"
  }
 },
 "nbformat": 4,
 "nbformat_minor": 2
}
