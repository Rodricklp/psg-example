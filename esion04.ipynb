{
 "cells": [
  {
   "cell_type": "code",
   "execution_count": 6,
   "metadata": {},
   "outputs": [
    {
     "name": "stdout",
     "output_type": "stream",
     "text": [
      "          00\n",
      "         0 000\n",
      "        0  0000\n",
      "       0   00000\n",
      "      0    0000000\n",
      "     00    000000000\n",
      "    000    0000000000\n",
      "    0000   0000000000\n",
      "     000   000000000\n",
      "      00   0000000\n",
      "       0   00000\n",
      "         ||   |\n",
      "         ||   |\n",
      "         ||   |\n"
     ]
    }
   ],
   "source": [
    "# Este comando saluda al mundo\n",
    "print(\"          00\")\n",
    "print(\"         0 000\")\n",
    "print(\"        0  0000\")\n",
    "print(\"       0   00000\")\n",
    "print(\"      0    0000000\")\n",
    "print(\"     00    000000000\")\n",
    "print(\"    000    0000000000\")\n",
    "print(\"    0000   0000000000\")\n",
    "print(\"     000   000000000\")\n",
    "print(\"      00   0000000\")\n",
    "print(\"       0   00000\")\n",
    "print(\"         ||   |\")\n",
    "print(\"         ||   |\")\n",
    "print(\"         ||   |\")\n"
   ]
  },
  {
   "cell_type": "markdown",
   "metadata": {},
   "source": [
    "# Hola, mi nombre es Rodrick\n",
    "- Mi primer notebook\n",
    "- Imprimr árbol\n",
    "- Crear markdown\n",
    "- Subir a mi repositorio Github\n",
    "- Dibujar un emoji 🐱"
   ]
  }
 ],
 "metadata": {
  "kernelspec": {
   "display_name": "Python 3",
   "language": "python",
   "name": "python3"
  },
  "language_info": {
   "codemirror_mode": {
    "name": "ipython",
    "version": 3
   },
   "file_extension": ".py",
   "mimetype": "text/x-python",
   "name": "python",
   "nbconvert_exporter": "python",
   "pygments_lexer": "ipython3",
   "version": "3.12.3"
  }
 },
 "nbformat": 4,
 "nbformat_minor": 2
}
